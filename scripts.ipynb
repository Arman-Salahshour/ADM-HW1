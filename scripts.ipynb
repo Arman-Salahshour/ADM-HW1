{
 "cells": [
  {
   "cell_type": "markdown",
   "metadata": {},
   "source": [
    "# Problem 1."
   ]
  },
  {
   "cell_type": "markdown",
   "metadata": {},
   "source": [
    "#"
   ]
  },
  {
   "cell_type": "markdown",
   "metadata": {},
   "source": [
    "## Introduction "
   ]
  },
  {
   "cell_type": "markdown",
   "metadata": {},
   "source": [
    "#### Say \"Hello, World!\" With Python"
   ]
  },
  {
   "cell_type": "code",
   "execution_count": null,
   "metadata": {},
   "outputs": [],
   "source": [
    "if __name__ == '__main__':\n",
    "    print(\"Hello, World!\")"
   ]
  },
  {
   "cell_type": "markdown",
   "metadata": {},
   "source": [
    "#### Python If-Else"
   ]
  },
  {
   "cell_type": "code",
   "execution_count": null,
   "metadata": {},
   "outputs": [],
   "source": [
    "#!/bin/python3\n",
    "\n",
    "import math\n",
    "import os\n",
    "import random\n",
    "import re\n",
    "import sys\n",
    "\n",
    "\n",
    "\n",
    "if __name__ == '__main__':\n",
    "    n = int(input().strip())\n",
    "    \n",
    "    if n%2==1:\n",
    "        print('Weird')\n",
    "    else:\n",
    "        if n >= 2 and n <= 5: \n",
    "            print('Not Weird')\n",
    "        elif 6 >= 2 and n <= 20: \n",
    "            print('Weird')\n",
    "        elif n > 20: \n",
    "            print('Not Weird')"
   ]
  },
  {
   "cell_type": "markdown",
   "metadata": {},
   "source": [
    "#### Arithmetic Operators"
   ]
  },
  {
   "cell_type": "code",
   "execution_count": null,
   "metadata": {},
   "outputs": [],
   "source": [
    "if __name__ == '__main__':\n",
    "    a = int(input())\n",
    "    b = int(input())\n",
    "    print(a+b)\n",
    "    print(a-b)\n",
    "    print(a*b)"
   ]
  },
  {
   "cell_type": "markdown",
   "metadata": {},
   "source": [
    "#### Python: Division\n"
   ]
  },
  {
   "cell_type": "code",
   "execution_count": null,
   "metadata": {},
   "outputs": [],
   "source": [
    "if __name__ == '__main__':\n",
    "    a = int(input())\n",
    "    b = int(input())\n",
    "    \n",
    "    print(a//b)\n",
    "    print(a/b)\n"
   ]
  },
  {
   "cell_type": "markdown",
   "metadata": {},
   "source": [
    "#### Loops\n"
   ]
  },
  {
   "cell_type": "code",
   "execution_count": null,
   "metadata": {},
   "outputs": [],
   "source": [
    "if __name__ == '__main__':\n",
    "    n = int(input())\n",
    "    for i in range(n):\n",
    "        print(i**2)"
   ]
  },
  {
   "cell_type": "markdown",
   "metadata": {},
   "source": [
    "#### Write a function"
   ]
  },
  {
   "cell_type": "code",
   "execution_count": null,
   "metadata": {},
   "outputs": [],
   "source": [
    "def is_leap(year):\n",
    "    leap = False\n",
    "    \n",
    "    if year % 4 == 0:\n",
    "        if year % 100 == 0:\n",
    "            if year % 400 == 0:\n",
    "                leap = True\n",
    "            else:\n",
    "                leap = False\n",
    "        else:\n",
    "\n",
    "            leap = True\n",
    "    return leap\n",
    "\n"
   ]
  },
  {
   "cell_type": "markdown",
   "metadata": {},
   "source": [
    "#### Print Function"
   ]
  },
  {
   "cell_type": "code",
   "execution_count": null,
   "metadata": {},
   "outputs": [],
   "source": [
    "if __name__ == '__main__':\n",
    "    n = int(input())\n",
    "    total = 0\n",
    "    index = 0\n",
    "    def countNum(n):\n",
    "        count = 1\n",
    "        while n //10 != 0:\n",
    "            n = n//10\n",
    "            count += 1\n",
    "        return count \n",
    "        \n",
    "    for num in range(n,0,-1):\n",
    "        temp = num*(10**index)\n",
    "        total += temp\n",
    "        index += countNum(num)\n",
    "        \n",
    "    print(total)"
   ]
  },
  {
   "cell_type": "markdown",
   "metadata": {},
   "source": [
    "#"
   ]
  },
  {
   "cell_type": "markdown",
   "metadata": {},
   "source": [
    "#"
   ]
  },
  {
   "cell_type": "markdown",
   "metadata": {},
   "source": [
    "##  Data types "
   ]
  },
  {
   "cell_type": "markdown",
   "metadata": {},
   "source": [
    "####  List Comprehensions\n"
   ]
  },
  {
   "cell_type": "code",
   "execution_count": null,
   "metadata": {},
   "outputs": [],
   "source": [
    "if __name__ == '__main__':\n",
    "    x = int(input())\n",
    "    y = int(input())\n",
    "    z = int(input())\n",
    "    n = int(input())\n",
    "    \n",
    "    list_ = [\n",
    "        [i, j, k]\n",
    "        for i in range(x+1) for j in range(y+1) for k in range(z+1)\n",
    "        if i+j+k != n\n",
    "    ]\n",
    "    print(list_)"
   ]
  },
  {
   "cell_type": "markdown",
   "metadata": {},
   "source": [
    "#### Find the Runner-Up Score!"
   ]
  },
  {
   "cell_type": "markdown",
   "metadata": {},
   "source": [
    "if __name__ == '__main__':\n",
    "    n = int(input())\n",
    "    arr = map(int, input().split())\n",
    "    arr = list(arr)\n",
    "    arr.sort()\n",
    "    arr = list(set(arr))\n",
    "    print(arr[-2])"
   ]
  },
  {
   "cell_type": "markdown",
   "metadata": {},
   "source": [
    "#### Nested Lists"
   ]
  },
  {
   "cell_type": "code",
   "execution_count": null,
   "metadata": {},
   "outputs": [],
   "source": [
    "if __name__ == '__main__':\n",
    "    records = list()\n",
    "    scores = list()\n",
    "    for _ in range(int(input())):\n",
    "        name = input()\n",
    "        score = float(input())\n",
    "        records.append([name, score])\n",
    "        scores.append(score)\n",
    "    \n",
    "    records.sort(key = lambda x: x[0])\n",
    "    records.sort(key = lambda x: x[1])\n",
    "    scores.sort()\n",
    "    the_sec_low = list(set(scores))[1]\n",
    "    \n",
    "    for item in records:\n",
    "        if item[1] == the_sec_low:\n",
    "            print(item[0])"
   ]
  },
  {
   "cell_type": "markdown",
   "metadata": {},
   "source": [
    "#### Finding the percentage"
   ]
  },
  {
   "cell_type": "code",
   "execution_count": null,
   "metadata": {},
   "outputs": [],
   "source": [
    "if __name__ == '__main__':\n",
    "    n = int(input())\n",
    "    student_marks = {}\n",
    "    for _ in range(n):\n",
    "        name, *line = input().split()\n",
    "        scores = list(map(float, line))\n",
    "        student_marks[name] = scores\n",
    "    query_name = input()\n",
    "    \n",
    "    scores = student_marks[query_name]\n",
    "    avg = sum(scores)/len(scores)\n",
    "    \n",
    "    print(format(avg, '0.2f'))"
   ]
  },
  {
   "cell_type": "markdown",
   "metadata": {},
   "source": [
    "#### Lists"
   ]
  },
  {
   "cell_type": "code",
   "execution_count": null,
   "metadata": {},
   "outputs": [],
   "source": [
    "if __name__ == '__main__':\n",
    "    N = int(input())\n",
    "    list_ = []\n",
    "    for _ in range(N):\n",
    "        command = input()\n",
    "        command_splited = command.split()\n",
    "        cmd_type = command_splited[0]\n",
    "\n",
    "        if cmd_type == \"insert\":\n",
    "            index = int(command_splited[1])\n",
    "            element = int(command_splited[2])\n",
    "            list_.insert(index, element)\n",
    "        elif cmd_type == \"print\":\n",
    "            print(list_)\n",
    "        elif cmd_type == \"remove\":\n",
    "            element = int(command_splited[1])\n",
    "            list_.remove(element)\n",
    "        elif cmd_type == \"append\":\n",
    "            element = int(command_splited[1])\n",
    "            list_.append(element)\n",
    "        elif cmd_type == \"sort\":\n",
    "            list_.sort()\n",
    "        elif cmd_type == \"pop\":\n",
    "            list_.pop()\n",
    "        elif cmd_type == \"reverse\":\n",
    "            list_.reverse()"
   ]
  },
  {
   "cell_type": "markdown",
   "metadata": {},
   "source": [
    "#### Tuples"
   ]
  },
  {
   "cell_type": "code",
   "execution_count": null,
   "metadata": {},
   "outputs": [],
   "source": [
    "if __name__ == '__main__':\n",
    "    n = int(input())\n",
    "    integer_list = map(int, input().split())\n",
    "    integer_list = tuple(integer_list)\n",
    "    print(hash(integer_list))"
   ]
  },
  {
   "cell_type": "markdown",
   "metadata": {},
   "source": [
    "#"
   ]
  },
  {
   "cell_type": "markdown",
   "metadata": {},
   "source": [
    "#"
   ]
  },
  {
   "cell_type": "markdown",
   "metadata": {},
   "source": [
    "## Strings"
   ]
  },
  {
   "cell_type": "markdown",
   "metadata": {},
   "source": [
    "#### sWAP cASE"
   ]
  },
  {
   "cell_type": "code",
   "execution_count": null,
   "metadata": {},
   "outputs": [],
   "source": [
    "def swap_case(s):\n",
    "    s_list = [char.swapcase() for char in s]\n",
    "    return \"\".join(s_list)\n",
    "\n",
    "if __name__ == '__main__':\n",
    "    s = input()\n",
    "    result = swap_case(s)\n",
    "    print(result)"
   ]
  },
  {
   "cell_type": "markdown",
   "metadata": {},
   "source": [
    "#### String Split and Join"
   ]
  },
  {
   "cell_type": "code",
   "execution_count": null,
   "metadata": {},
   "outputs": [],
   "source": [
    "def split_and_join(line):\n",
    "    splited = line.split()\n",
    "    return \"-\".join(splited)\n",
    "\n",
    "if __name__ == '__main__':\n",
    "    line = input()\n",
    "    result = split_and_join(line)\n",
    "    print(result)\n"
   ]
  },
  {
   "cell_type": "markdown",
   "metadata": {},
   "source": [
    "#### What's Your Name?"
   ]
  },
  {
   "cell_type": "code",
   "execution_count": null,
   "metadata": {},
   "outputs": [],
   "source": [
    "def print_full_name(first, last):\n",
    "    print(f\"Hello {first} {last}! You just delved into python.\")\n",
    "\n",
    "if __name__ == '__main__':\n",
    "    first_name = input()\n",
    "    last_name = input()\n",
    "    print_full_name(first_name, last_name)"
   ]
  },
  {
   "cell_type": "markdown",
   "metadata": {},
   "source": [
    "#### Mutations"
   ]
  },
  {
   "cell_type": "code",
   "execution_count": null,
   "metadata": {},
   "outputs": [],
   "source": [
    "def mutate_string(string, position, character):\n",
    "    listed = list(string)\n",
    "    listed[position] = character\n",
    "    return \"\".join(listed)\n",
    "\n",
    "if __name__ == '__main__':\n",
    "    s = input()\n",
    "    i, c = input().split()\n",
    "    s_new = mutate_string(s, int(i), c)\n",
    "    print(s_new)"
   ]
  },
  {
   "cell_type": "markdown",
   "metadata": {},
   "source": [
    "#### Find a string"
   ]
  },
  {
   "cell_type": "code",
   "execution_count": null,
   "metadata": {},
   "outputs": [],
   "source": [
    "def count_substring(string, sub_string):\n",
    "    length_string = len(string)\n",
    "    length_sub_string = len(sub_string)\n",
    "    count = 0\n",
    "    \n",
    "    for i in range(length_string-length_sub_string+1):\n",
    "        if string[i:i+length_sub_string] == sub_string:\n",
    "            count += 1\n",
    "    \n",
    "    return count\n",
    "            \n",
    "\n",
    "if __name__ == '__main__':\n",
    "    string = input().strip()\n",
    "    sub_string = input().strip()\n",
    "    \n",
    "    count = count_substring(string, sub_string)\n",
    "    print(count)"
   ]
  },
  {
   "cell_type": "markdown",
   "metadata": {},
   "source": [
    "#### String Validators\n"
   ]
  },
  {
   "cell_type": "code",
   "execution_count": null,
   "metadata": {},
   "outputs": [],
   "source": [
    "if __name__ == '__main__':\n",
    "    s = input()\n",
    "    print(any(char.isalnum() for char in s))  \n",
    "    print(any(char.isalpha() for char in s))  \n",
    "    print(any(char.isdigit() for char in s))  \n",
    "    print(any(char.islower() for char in s)) \n",
    "    print(any(char.isupper() for char in s)) "
   ]
  },
  {
   "cell_type": "markdown",
   "metadata": {},
   "source": [
    "#### Text Wrap\n"
   ]
  },
  {
   "cell_type": "code",
   "execution_count": null,
   "metadata": {},
   "outputs": [],
   "source": [
    "import textwrap\n",
    "\n",
    "def wrap(string, max_width):\n",
    "    wraped = [string[(i*max_width):(i+1)*(max_width)] \n",
    "    for i in range((len(string)//max_width)+1)\n",
    "    ]\n",
    "    return \"\\n\".join(wraped)\n",
    "\n",
    "if __name__ == '__main__':\n",
    "    string, max_width = input(), int(input())\n",
    "    result = wrap(string, max_width)\n",
    "    print(result)"
   ]
  },
  {
   "cell_type": "markdown",
   "metadata": {},
   "source": [
    "#### Designer Door Mat"
   ]
  },
  {
   "cell_type": "code",
   "execution_count": null,
   "metadata": {},
   "outputs": [],
   "source": [
    "# Enter your code here. Read input from STDIN. Print output to STDOUT\n",
    "n, m = map(int,input().split())\n",
    "\n",
    "for i in range(n//2):\n",
    "    j = int((2*i)+1)\n",
    "    print(('.|.'*j).center(m, '-'))\n",
    "print('WELCOME'.center(m,'-'))\n",
    "for i in reversed(range(n//2)):\n",
    "    j = int((2*i)+1)\n",
    "    print(('.|.'*j).center(m, '-'))"
   ]
  },
  {
   "cell_type": "markdown",
   "metadata": {},
   "source": [
    "#### String Formatting"
   ]
  },
  {
   "cell_type": "code",
   "execution_count": null,
   "metadata": {},
   "outputs": [],
   "source": [
    "def changeBase(num, base):\n",
    "    changed = ''\n",
    "    temp = num\n",
    "    while temp >= base:\n",
    "        res = temp % base\n",
    "        changed = str(res)+changed\n",
    "        temp -= res\n",
    "        temp = temp//base\n",
    "    \n",
    "    res = temp % base \n",
    "    changed = str(res)+changed\n",
    "    return changed\n",
    "\n",
    "def textAligner(num, width):\n",
    "    return num.rjust(width)\n",
    "\n",
    "def print_formatted(number):\n",
    "    # your code goes here\n",
    "    width = len(bin(number)[2:])\n",
    "    for i in range(1, number+1):\n",
    "        deci = str(i)\n",
    "        octa = oct(i)[2:]\n",
    "        hexa = hex(i)[2:].upper()\n",
    "        bina = bin(i)[2:]\n",
    "        print(deci.rjust(width),octa.rjust(width),hexa.rjust(width),bina.rjust(width))\n",
    "    \n",
    "if __name__ == '__main__':\n",
    "    n = int(input())\n",
    "    print_formatted(n)"
   ]
  },
  {
   "cell_type": "markdown",
   "metadata": {},
   "source": [
    "#### Alphabet Rangoli"
   ]
  },
  {
   "cell_type": "code",
   "execution_count": null,
   "metadata": {},
   "outputs": [],
   "source": [
    "import string\n",
    "def print_rangoli(size):\n",
    "    # your code goes here\n",
    "    alphabet = string.ascii_lowercase\n",
    "    pattern = [\n",
    "        ('-'.join(alphabet[size-1:i:-1] + alphabet[i:size])).center(4*size - 3, '-')\n",
    "        for i in range(size)\n",
    "    ]\n",
    "    print('\\n'.join(pattern[::-1] + pattern[1:]))\n",
    "\n",
    "if __name__ == '__main__':\n",
    "    n = int(input())\n",
    "    print_rangoli(n)"
   ]
  },
  {
   "cell_type": "markdown",
   "metadata": {},
   "source": [
    "#### Capitalize!\n"
   ]
  },
  {
   "cell_type": "code",
   "execution_count": null,
   "metadata": {},
   "outputs": [],
   "source": [
    "#!/bin/python3\n",
    "\n",
    "import math\n",
    "import os\n",
    "import random\n",
    "import re\n",
    "import sys\n",
    "\n",
    "# Complete the solve function below.\n",
    "def solve(s):\n",
    "    splited = [\n",
    "        name.capitalize()\n",
    "        for name in s.split(' ')]\n",
    "        \n",
    "    return \" \".join(splited)\n",
    "    \n",
    "\n",
    "if __name__ == '__main__':\n",
    "    fptr = open(os.environ['OUTPUT_PATH'], 'w')\n",
    "\n",
    "    s = input()\n",
    "\n",
    "    result = solve(s)\n",
    "\n",
    "    fptr.write(result + '\\n')\n",
    "\n",
    "    fptr.close()\n"
   ]
  },
  {
   "cell_type": "markdown",
   "metadata": {},
   "source": [
    "#### The Minion Game"
   ]
  },
  {
   "cell_type": "code",
   "execution_count": null,
   "metadata": {},
   "outputs": [],
   "source": [
    "def vowelsFinder(string):\n",
    "    vowels = 'aeiouAEIOU'\n",
    "    counter = 0\n",
    "    length = len(string)\n",
    "    for i, char in enumerate(string):\n",
    "        if char in vowels:\n",
    "            # Score is number of possible substrings starting from this index\n",
    "            counter += length - i\n",
    "    \n",
    "    return counter\n",
    "\n",
    "def consonantsFinder(string):\n",
    "    vowels = 'aeiouAEIOU'\n",
    "    counter = 0\n",
    "    length = len(string)\n",
    "    for i, char in enumerate(string):\n",
    "        if char not in vowels:\n",
    "            # Score is number of possible substrings starting from this index\n",
    "            counter += length - i\n",
    "            \n",
    "    return counter\n",
    "\n",
    "def minion_game(string):\n",
    "    kevin = vowelsFinder(string)\n",
    "    stuart = consonantsFinder(string)\n",
    "    if kevin > stuart:\n",
    "        print(f'Kevin {kevin}')\n",
    "    elif stuart > kevin:\n",
    "        print(f'Stuart {stuart}')\n",
    "    else:\n",
    "        print(\"Draw\")\n",
    "\n",
    "if __name__ == '__main__':\n",
    "    s = input()\n",
    "    minion_game(s)"
   ]
  },
  {
   "cell_type": "markdown",
   "metadata": {},
   "source": [
    "#### Merge the Tools!"
   ]
  },
  {
   "cell_type": "code",
   "execution_count": null,
   "metadata": {},
   "outputs": [],
   "source": [
    "def merge_the_tools(string, k):\n",
    "    # your code goes here\n",
    "    substrings = [string[i:i+k] for i in range(0, len(string), k)]\n",
    "    unique_list = list()\n",
    "    \n",
    "    for sub in substrings:\n",
    "        temp = ''\n",
    "        if sub=='':\n",
    "            continue\n",
    "            \n",
    "        for char in list(sub):\n",
    "            if char not in temp:\n",
    "                temp += char\n",
    "                \n",
    "        unique_list.append(temp)\n",
    "    print(*unique_list, sep='\\n')\n",
    "\n",
    "if __name__ == '__main__':\n",
    "    string, k = input(), int(input())\n",
    "    merge_the_tools(string, k)"
   ]
  },
  {
   "cell_type": "markdown",
   "metadata": {},
   "source": [
    "#"
   ]
  },
  {
   "cell_type": "markdown",
   "metadata": {},
   "source": [
    "#### "
   ]
  },
  {
   "cell_type": "markdown",
   "metadata": {},
   "source": [
    "#"
   ]
  },
  {
   "cell_type": "markdown",
   "metadata": {},
   "source": [
    "## Sets"
   ]
  },
  {
   "cell_type": "markdown",
   "metadata": {},
   "source": [
    "#### Introduction to Sets\n"
   ]
  },
  {
   "cell_type": "code",
   "execution_count": null,
   "metadata": {},
   "outputs": [],
   "source": [
    "def average(array):\n",
    "    # your code goes here\n",
    "    return sum(set(array))/len(set(array))\n",
    "\n",
    "if __name__ == '__main__':\n",
    "    n = int(input())\n",
    "    arr = list(map(int, input().split()))\n",
    "    result = average(arr)\n",
    "    print(result)"
   ]
  },
  {
   "cell_type": "markdown",
   "metadata": {},
   "source": [
    "#### No Idea!\n"
   ]
  },
  {
   "cell_type": "code",
   "execution_count": null,
   "metadata": {},
   "outputs": [],
   "source": [
    "# Enter your code here. Read input from STDIN. Print output to STDOUT\n",
    "n, m = map(int, input().strip().split())\n",
    "array = list(map(int, input().strip().split()))\n",
    "A = set(map(int, input().strip().split()))\n",
    "B = set(map(int, input().strip().split()))\n",
    "\n",
    "total_happiness = 0\n",
    "\n",
    "for item in array:\n",
    "    if item in A:\n",
    "        total_happiness += 1\n",
    "    if item in B:\n",
    "        total_happiness -= 1\n",
    "\n",
    "print(total_happiness)\n"
   ]
  },
  {
   "cell_type": "markdown",
   "metadata": {},
   "source": [
    "#### Symmetric Difference"
   ]
  },
  {
   "cell_type": "code",
   "execution_count": null,
   "metadata": {},
   "outputs": [],
   "source": [
    "# Enter your code here. Read input from STDIN. Print output to STDOUT\n",
    "m = int(input().strip())\n",
    "a = set(map(int, input().strip().split()))\n",
    "n = int(input().strip())\n",
    "b = set(map(int, input().strip().split()))\n",
    "\n",
    "symmetric_difference = a.symmetric_difference(b)\n",
    "\n",
    "for num in sorted(symmetric_difference):\n",
    "    print(num)\n"
   ]
  },
  {
   "cell_type": "markdown",
   "metadata": {},
   "source": [
    "#### Set .add()"
   ]
  },
  {
   "cell_type": "code",
   "execution_count": null,
   "metadata": {},
   "outputs": [],
   "source": [
    "# Enter your code here. Read input from STDIN. Print output to STDOUT\n",
    "\n",
    "num = int(input())\n",
    "countries = set([input() for _ in range(num)])\n",
    "print(len(countries))\n"
   ]
  },
  {
   "cell_type": "markdown",
   "metadata": {},
   "source": [
    "#### Set .discard(), .remove() & .pop()"
   ]
  },
  {
   "cell_type": "code",
   "execution_count": null,
   "metadata": {},
   "outputs": [],
   "source": [
    "n = int(input())\n",
    "s = set(map(int, input().split()))\n",
    "m = int(input().strip())\n",
    "\n",
    "for _ in range(m):\n",
    "    command = input().strip().split()\n",
    "    operation = command[0]\n",
    "\n",
    "    if operation == 'pop':\n",
    "        s.pop()\n",
    "    elif operation == 'remove':\n",
    "        element = int(command[1])\n",
    "        s.remove(element)\n",
    "    elif operation == 'discard':\n",
    "        element = int(command[1])\n",
    "        s.discard(element)\n",
    "\n",
    "print(sum(s))"
   ]
  },
  {
   "cell_type": "markdown",
   "metadata": {},
   "source": [
    "#### Set .union() Operation"
   ]
  },
  {
   "cell_type": "code",
   "execution_count": null,
   "metadata": {},
   "outputs": [],
   "source": [
    "# Enter your code here. Read input from STDIN. Print output to STDOUT\n",
    "n = int(input().strip())\n",
    "english_subscribers = set(map(int, input().strip().split()))\n",
    "m = int(input().strip())\n",
    "french_subscribers = set(map(int, input().strip().split()))\n",
    "\n",
    "unique_subscribers = english_subscribers.union(french_subscribers)\n",
    "\n",
    "print(len(unique_subscribers))"
   ]
  },
  {
   "cell_type": "markdown",
   "metadata": {},
   "source": [
    "#### Set .intersection() Operation"
   ]
  },
  {
   "cell_type": "code",
   "execution_count": null,
   "metadata": {},
   "outputs": [],
   "source": [
    "# Enter your code here. Read input from STDIN. Print output to STDOUT\n",
    "n = int(input().strip())\n",
    "english_subscribers = set(map(int, input().strip().split()))\n",
    "m = int(input().strip())\n",
    "french_subscribers = set(map(int, input().strip().split()))\n",
    "\n",
    "intersection_subscribers = english_subscribers.intersection(french_subscribers)\n",
    "\n",
    "print(len(intersection_subscribers))"
   ]
  },
  {
   "cell_type": "markdown",
   "metadata": {},
   "source": [
    "#### Set .difference() Operation"
   ]
  },
  {
   "cell_type": "code",
   "execution_count": null,
   "metadata": {},
   "outputs": [],
   "source": [
    "# Enter your code here. Read input from STDIN. Print output to STDOUT\n",
    "n = int(input().strip())\n",
    "english_subscribers = set(map(int, input().strip().split()))\n",
    "m = int(input().strip())\n",
    "french_subscribers = set(map(int, input().strip().split()))\n",
    "\n",
    "difference_subscribers = english_subscribers.difference(french_subscribers)\n",
    "\n",
    "print(len(difference_subscribers))"
   ]
  },
  {
   "cell_type": "markdown",
   "metadata": {},
   "source": [
    "#### Set .symmetric_difference() Operation"
   ]
  },
  {
   "cell_type": "code",
   "execution_count": null,
   "metadata": {},
   "outputs": [],
   "source": [
    "# Enter your code here. Read input from STDIN. Print output to STDOUT\n",
    "n = int(input().strip())\n",
    "english_subscribers = set(map(int, input().strip().split()))\n",
    "m = int(input().strip())\n",
    "french_subscribers = set(map(int, input().strip().split()))\n",
    "\n",
    "symmetric_difference_subscribers = english_subscribers.symmetric_difference(french_subscribers)\n",
    "\n",
    "print(len(symmetric_difference_subscribers))"
   ]
  },
  {
   "cell_type": "markdown",
   "metadata": {},
   "source": [
    "#### Set Mutations"
   ]
  },
  {
   "cell_type": "code",
   "execution_count": null,
   "metadata": {},
   "outputs": [],
   "source": [
    "# Enter your code here. Read input from STDIN. Print output to STDOUT\n",
    "\n",
    "n = int(input().strip())\n",
    "A = set(map(int, input().strip().split()))\n",
    "m = int(input().strip())\n",
    "\n",
    "for _ in range(m):\n",
    "    operation, _ = input().strip().split()\n",
    "    other_set = set(map(int, input().strip().split()))\n",
    "\n",
    "    if operation == \"update\":\n",
    "        A.update(other_set)\n",
    "    elif operation == \"intersection_update\":\n",
    "        A.intersection_update(other_set)\n",
    "    elif operation == \"difference_update\":\n",
    "        A.difference_update(other_set)\n",
    "    elif operation == \"symmetric_difference_update\":\n",
    "        A.symmetric_difference_update(other_set)\n",
    "\n",
    "print(sum(A))"
   ]
  },
  {
   "cell_type": "markdown",
   "metadata": {},
   "source": [
    "#### The Captain's Room"
   ]
  },
  {
   "cell_type": "code",
   "execution_count": null,
   "metadata": {},
   "outputs": [],
   "source": [
    "# Enter your code here. Read input from STDIN. Print output to STDOUT\n",
    "\n",
    "k = int(input())\n",
    "room_numbers = list(map(int, input().split()))\n",
    "\n",
    "unique_room_numbers = list(set(room_numbers))\n",
    "\n",
    "for unique in unique_room_numbers:\n",
    "    count = 0\n",
    "    for num in room_numbers:\n",
    "        if unique == num:\n",
    "            count += 1\n",
    "        if count > 1:\n",
    "            break\n",
    "    else:\n",
    "        print(unique)\n",
    "        break\n",
    "        "
   ]
  },
  {
   "cell_type": "markdown",
   "metadata": {},
   "source": [
    "#### Check Subset"
   ]
  },
  {
   "cell_type": "code",
   "execution_count": null,
   "metadata": {},
   "outputs": [],
   "source": [
    "# Enter your code here. Read input from STDIN. Print output to STDOUT\n",
    "\n",
    "t = int(input())\n",
    "\n",
    "for _ in range(t):\n",
    "    _ = input()\n",
    "    setA = set(map(int, input().split()))\n",
    "\n",
    "    _ = input()\n",
    "    setB = set(map(int, input().split()))\n",
    "    \n",
    "    \n",
    "    print(setA.issubset(setB))"
   ]
  },
  {
   "cell_type": "markdown",
   "metadata": {},
   "source": [
    "#### Check Strict Superset"
   ]
  },
  {
   "cell_type": "code",
   "execution_count": null,
   "metadata": {},
   "outputs": [],
   "source": [
    "# Enter your code here. Read input from STDIN. Print output to STDOUT\n",
    "\n",
    "main_set = set(map(int, input().split()))\n",
    "\n",
    "t = int(input())\n",
    "condition = True\n",
    "for _ in range(t):\n",
    "    subset = set(map(int, input().split()))\n",
    "    \n",
    "    if subset.issubset(main_set) and len(list(main_set)) > len(list(subset)):\n",
    "        condition *= True\n",
    "    else:\n",
    "        condition *= False\n",
    "\n",
    "print(True if condition else False)"
   ]
  },
  {
   "cell_type": "markdown",
   "metadata": {},
   "source": [
    "#### collections.Counter()\n"
   ]
  },
  {
   "cell_type": "code",
   "execution_count": null,
   "metadata": {},
   "outputs": [],
   "source": [
    "# Enter your code here. Read input from STDIN. Print output to STDOUT\n",
    "from collections import Counter\n",
    "\n",
    "shoes_num = int(input())\n",
    "\n",
    "shoes = list(map(int, input().split()))\n",
    "shoes = Counter(shoes)\n",
    "\n",
    "orders_num = int(input())\n",
    "earned = 0\n",
    "\n",
    "for _ in range(orders_num):\n",
    "    size, price = list(map(int, input().split()))\n",
    "    if shoes[size] > 0:\n",
    "        shoes[size] -= 1 \n",
    "        earned += price\n",
    "\n",
    "print(earned)\n"
   ]
  },
  {
   "cell_type": "markdown",
   "metadata": {},
   "source": [
    "#### DefaultDict Tutorial\n"
   ]
  },
  {
   "cell_type": "code",
   "execution_count": null,
   "metadata": {},
   "outputs": [],
   "source": [
    "from collections import defaultdict\n",
    "\n",
    "# Read n and m\n",
    "n, m = map(int, input().split())\n",
    "\n",
    "# Initialize a defaultdict to hold the positions of words in group A\n",
    "a_dict = defaultdict(list)\n",
    "\n",
    "# Read n words for group A and store their indices (1-based)\n",
    "for i in range(1, n+1):\n",
    "    word = input().strip()\n",
    "    a_dict[word].append(i)\n",
    "\n",
    "# Read m words for group B and check their occurrences in group A\n",
    "for _ in range(m):\n",
    "    word = input().strip()\n",
    "    if word in a_dict:\n",
    "        # If the word exists in group A, print the indices\n",
    "        print(\" \".join(map(str, a_dict[word])))\n",
    "    else:\n",
    "        # If the word does not exist, print -1\n",
    "        print(-1)\n"
   ]
  },
  {
   "cell_type": "markdown",
   "metadata": {},
   "source": [
    "#### Collections.namedtuple()\n"
   ]
  },
  {
   "cell_type": "code",
   "execution_count": null,
   "metadata": {},
   "outputs": [],
   "source": [
    "from collections import namedtuple\n",
    "\n",
    "t = int(input())\n",
    "\n",
    "columns = input().split() \n",
    "\n",
    "Student = namedtuple('Student', columns)\n",
    "print(f\"{sum([float(Student(*input().split()).MARKS) for _ in range(t)])/t:.2f}\") \n"
   ]
  },
  {
   "cell_type": "markdown",
   "metadata": {},
   "source": [
    "#### Collections.OrderedDict()\n"
   ]
  },
  {
   "cell_type": "code",
   "execution_count": null,
   "metadata": {},
   "outputs": [],
   "source": [
    "# Enter your code here. Read input from STDIN. Print output to STDOUT\n",
    "from collections import OrderedDict\n",
    "\n",
    "cart = OrderedDict()\n",
    "t = int(input())\n",
    "\n",
    "for _ in range(t):\n",
    "    item_price = input().split()\n",
    "    item = \" \".join(item_price[:-1])\n",
    "    price = int(item_price[-1])\n",
    "    if item in cart.keys():\n",
    "        cart[item] += price\n",
    "    else:\n",
    "        cart[item] = price\n",
    "    \n",
    "for item in cart.items():\n",
    "    print(*item, sep=' ')"
   ]
  },
  {
   "cell_type": "markdown",
   "metadata": {},
   "source": [
    "#### Word Order\n"
   ]
  },
  {
   "cell_type": "code",
   "execution_count": null,
   "metadata": {},
   "outputs": [],
   "source": [
    "# Enter your code here. Read input from STDIN. Print output to STDOUT\n",
    "from collections import OrderedDict\n",
    "\n",
    "t = int(input())\n",
    "words = OrderedDict()\n",
    "\n",
    "for _ in range(t):\n",
    "    word = input()\n",
    "    if word in words.keys():\n",
    "        words[word] += 1\n",
    "    else:\n",
    "        words[word] = 1\n",
    "\n",
    "print(len(words.keys()))\n",
    "print(*[item[1] for item in words.items()], sep=' ')\n"
   ]
  },
  {
   "cell_type": "markdown",
   "metadata": {},
   "source": [
    "#### Collections.deque()"
   ]
  },
  {
   "cell_type": "code",
   "execution_count": null,
   "metadata": {},
   "outputs": [],
   "source": [
    "# Enter your code here. Read input from STDIN. Print output to STDOUT\n",
    "\n",
    "from collections import deque\n",
    "\n",
    "d = deque()\n",
    "\n",
    "n = int(input())\n",
    "\n",
    "for _ in range(n):\n",
    "    operation = input().split()\n",
    "\n",
    "    if operation[0] == 'append':\n",
    "        d.append(operation[1])  # Append to the right\n",
    "    elif operation[0] == 'appendleft':\n",
    "        d.appendleft(operation[1])  # Append to the left\n",
    "    elif operation[0] == 'pop':\n",
    "        d.pop()  # Pop from the right\n",
    "    elif operation[0] == 'popleft':\n",
    "        d.popleft()  # Pop from the left\n",
    "\n",
    "print(\" \".join(d))\n"
   ]
  },
  {
   "cell_type": "markdown",
   "metadata": {},
   "source": [
    "#### Company Logo"
   ]
  },
  {
   "cell_type": "code",
   "execution_count": null,
   "metadata": {},
   "outputs": [],
   "source": [
    "#!/bin/python3\n",
    "\n",
    "import math\n",
    "import os\n",
    "import random\n",
    "import re\n",
    "import sys\n",
    "from collections import Counter\n",
    "\n",
    "\n",
    "if __name__ == '__main__':\n",
    "    s = input()\n",
    "    list_ = list(s)\n",
    "    countered_list = list(Counter(list_).items())\n",
    "    countered_list = sorted(countered_list, key=lambda x: (-x[1], x[0]))\n",
    "    for item in countered_list[:3]:\n",
    "        print(*item, sep=' ')\n",
    "    "
   ]
  },
  {
   "cell_type": "markdown",
   "metadata": {},
   "source": [
    "#### Piling Up!"
   ]
  },
  {
   "cell_type": "code",
   "execution_count": null,
   "metadata": {},
   "outputs": [],
   "source": [
    "# Enter your code here. Read input from STDIN. Print output to STDOUT\n",
    "from collections import deque\n",
    "\n",
    "t = int(input())\n",
    "for _ in range(t):\n",
    "    length = int(input())\n",
    "    qeue = deque()\n",
    "    qeue.extend(list(map(int, input().split())))\n",
    "    last_cube = float('inf')\n",
    "    \n",
    "    for _ in range(length-1):\n",
    "        if qeue[0] > qeue[-1]:\n",
    "            cube = qeue.popleft()\n",
    "        else:\n",
    "            cube = qeue.pop()\n",
    "        \n",
    "        if cube > last_cube:\n",
    "            print('No')\n",
    "            break\n",
    "        last_cube = cube\n",
    "        \n",
    "    else:\n",
    "        print('Yes')\n"
   ]
  },
  {
   "cell_type": "markdown",
   "metadata": {},
   "source": [
    "#### "
   ]
  },
  {
   "cell_type": "markdown",
   "metadata": {},
   "source": [
    "#"
   ]
  },
  {
   "cell_type": "markdown",
   "metadata": {},
   "source": [
    "#"
   ]
  },
  {
   "cell_type": "markdown",
   "metadata": {},
   "source": [
    "## Date and Time"
   ]
  },
  {
   "cell_type": "markdown",
   "metadata": {},
   "source": [
    "#### Calendar Module\n"
   ]
  },
  {
   "cell_type": "code",
   "execution_count": null,
   "metadata": {},
   "outputs": [],
   "source": [
    "# Enter your code here. Read input from STDIN. Print output to STDOUT\n",
    "import datetime\n",
    "\n",
    "month, day, year = list(map(int, input().split()))\n",
    "date = datetime.date(year, month, day)\n",
    "day_of_week = date.strftime(\"%A\").upper()\n",
    "\n",
    "print(day_of_week)\n"
   ]
  },
  {
   "cell_type": "markdown",
   "metadata": {},
   "source": [
    "#### Time Delta"
   ]
  },
  {
   "cell_type": "code",
   "execution_count": null,
   "metadata": {},
   "outputs": [],
   "source": [
    "#!/bin/python3\n",
    "\n",
    "import math\n",
    "import os\n",
    "import random\n",
    "import re\n",
    "import sys\n",
    "from datetime import datetime\n",
    "\n",
    "# Complete the time_delta function below.\n",
    "def time_delta(t1, t2):\n",
    "    date_format = \"%a %d %b %Y %H:%M:%S %z\"\n",
    "    \n",
    "    date1 = datetime.strptime(t1, date_format)\n",
    "    date2 = datetime.strptime(t2, date_format)\n",
    "\n",
    "    return str(int(abs((date2 - date1).total_seconds())))\n",
    "\n",
    "\n",
    "if __name__ == '__main__':\n",
    "    fptr = open(os.environ['OUTPUT_PATH'], 'w')\n",
    "\n",
    "    t = int(input())\n",
    "\n",
    "    for t_itr in range(t):\n",
    "        t1 = input()\n",
    "\n",
    "        t2 = input()\n",
    "\n",
    "        delta = time_delta(t1, t2)\n",
    "\n",
    "        fptr.write(delta + '\\n')\n",
    "\n",
    "    fptr.close()\n"
   ]
  },
  {
   "cell_type": "markdown",
   "metadata": {},
   "source": [
    "#"
   ]
  },
  {
   "cell_type": "markdown",
   "metadata": {},
   "source": [
    "#### "
   ]
  },
  {
   "cell_type": "markdown",
   "metadata": {},
   "source": [
    "#"
   ]
  },
  {
   "cell_type": "markdown",
   "metadata": {},
   "source": [
    "## Exceptions\n"
   ]
  },
  {
   "cell_type": "markdown",
   "metadata": {},
   "source": [
    "#### Exceptions"
   ]
  },
  {
   "cell_type": "code",
   "execution_count": null,
   "metadata": {},
   "outputs": [],
   "source": [
    "# Enter your code here. Read input from STDIN. Print output to STDOUT\n",
    "t = int(input().strip())\n",
    "\n",
    "for _ in range(t):\n",
    "    try:\n",
    "        a, b = map(int, input().split())\n",
    "        result = a // b\n",
    "        print(result)\n",
    "    except ZeroDivisionError as e:\n",
    "        print(\"Error Code:\", e)\n",
    "    except ValueError as e:\n",
    "        print(\"Error Code:\", e)\n"
   ]
  },
  {
   "cell_type": "markdown",
   "metadata": {},
   "source": [
    "#"
   ]
  },
  {
   "cell_type": "markdown",
   "metadata": {},
   "source": [
    "#### "
   ]
  },
  {
   "cell_type": "markdown",
   "metadata": {},
   "source": [
    "#"
   ]
  },
  {
   "cell_type": "markdown",
   "metadata": {},
   "source": [
    "## Built-ins "
   ]
  },
  {
   "cell_type": "markdown",
   "metadata": {},
   "source": [
    "#### Zipped!\n"
   ]
  },
  {
   "cell_type": "code",
   "execution_count": null,
   "metadata": {},
   "outputs": [],
   "source": [
    "# Enter your code here. Read input from STDIN. Print output to STDOUT\n",
    "\n",
    "n, x = list(map(int, input().split()))\n",
    "\n",
    "scores = [list(map(float, input().split())) for _ in range(x)]\n",
    "\n",
    "st_scores = list(zip(*scores))\n",
    "\n",
    "for item in st_scores:\n",
    "    print(sum(item)/x)\n"
   ]
  },
  {
   "cell_type": "markdown",
   "metadata": {},
   "source": [
    "#### Athlete Sort"
   ]
  },
  {
   "cell_type": "code",
   "execution_count": null,
   "metadata": {},
   "outputs": [],
   "source": [
    "#!/bin/python3\n",
    "\n",
    "import math\n",
    "import os\n",
    "import random\n",
    "import re\n",
    "import sys\n",
    "\n",
    "\n",
    "\n",
    "if __name__ == '__main__':\n",
    "    nm = input().split()\n",
    "\n",
    "    n = int(nm[0])\n",
    "\n",
    "    m = int(nm[1])\n",
    "\n",
    "    arr = []\n",
    "\n",
    "    for _ in range(n):\n",
    "        arr.append(list(map(int, input().rstrip().split())))\n",
    "\n",
    "    k = int(input())\n",
    "    \n",
    "    arr.sort(key=lambda x: x[k])\n",
    "    \n",
    "    for item in arr:\n",
    "        print(*item)\n"
   ]
  },
  {
   "cell_type": "markdown",
   "metadata": {},
   "source": [
    "#### ginortS\n"
   ]
  },
  {
   "cell_type": "code",
   "execution_count": null,
   "metadata": {},
   "outputs": [],
   "source": [
    "# Enter your code here. Read input from STDIN. Print output to STDOUT\n",
    "\n",
    "s = input()\n",
    "\n",
    "sorted_string = ''.join(sorted(s, key=lambda x: (x.isdigit(), x.isdigit() and int(x) % 2 == 0, x.isupper(), x)))\n",
    "\n",
    "print(sorted_string)\n"
   ]
  },
  {
   "cell_type": "markdown",
   "metadata": {},
   "source": [
    "#"
   ]
  },
  {
   "cell_type": "markdown",
   "metadata": {},
   "source": [
    "#"
   ]
  },
  {
   "cell_type": "markdown",
   "metadata": {},
   "source": [
    "##  Python Functionals "
   ]
  },
  {
   "cell_type": "markdown",
   "metadata": {},
   "source": [
    "#### Map and Lambda Function"
   ]
  },
  {
   "cell_type": "code",
   "execution_count": null,
   "metadata": {},
   "outputs": [],
   "source": [
    "cube = lambda x: x**3 # complete the lambda function \n",
    "\n",
    "def fibonacci(n):\n",
    "    # return a list of fibonacci numbers\n",
    "    if n==0:\n",
    "        return []\n",
    "    elif n==1:\n",
    "        return [0]\n",
    "    fib = [0, 1]\n",
    "    while(len(fib) != n):\n",
    "        fib.append(fib[-1]+fib[-2])\n",
    "    \n",
    "    return fib\n",
    "\n",
    "if __name__ == '__main__':\n",
    "    n = int(input())\n",
    "    print(list(map(cube, fibonacci(n))))"
   ]
  },
  {
   "cell_type": "markdown",
   "metadata": {},
   "source": [
    "#"
   ]
  },
  {
   "cell_type": "markdown",
   "metadata": {},
   "source": [
    "#"
   ]
  },
  {
   "cell_type": "markdown",
   "metadata": {},
   "source": [
    "## Regex and Parsing challenges "
   ]
  },
  {
   "cell_type": "markdown",
   "metadata": {},
   "source": [
    "#### Detect Floating Point Number\n"
   ]
  },
  {
   "cell_type": "code",
   "execution_count": null,
   "metadata": {},
   "outputs": [],
   "source": [
    "# Enter your code here. Read input from STDIN. Print output to STDOUT\n",
    "import re\n",
    "\n",
    "t = int(input())\n",
    "pattern = r'^[-+]?[0-9]*\\.[0-9]+$'\n",
    "\n",
    "\n",
    "for _ in range(t):\n",
    "    if re.match(pattern, input()):\n",
    "        print(True)\n",
    "    else:\n",
    "        print(False)\n"
   ]
  },
  {
   "cell_type": "markdown",
   "metadata": {},
   "source": [
    "#### Re.split()"
   ]
  },
  {
   "cell_type": "code",
   "execution_count": null,
   "metadata": {},
   "outputs": [],
   "source": [
    "regex_pattern = r\"[,.]\"\t# Do not delete 'r'.\n",
    "\n",
    "import re\n",
    "print(\"\\n\".join(re.split(regex_pattern, input())))"
   ]
  },
  {
   "cell_type": "markdown",
   "metadata": {},
   "source": [
    "#### Group(), Groups() & Groupdict()"
   ]
  },
  {
   "cell_type": "code",
   "execution_count": null,
   "metadata": {},
   "outputs": [],
   "source": [
    "# Enter your code here. Read input from STDIN. Print output to STDOUT\n",
    "import re\n",
    "\n",
    "string = input()\n",
    "pattern = r\"([a-zA-Z1-9])\\1\"\n",
    "\n",
    "match = re.search(pattern, string)\n",
    "\n",
    "if match:\n",
    "    print(match.group(1))\n",
    "else:\n",
    "    print(-1)\n"
   ]
  },
  {
   "cell_type": "markdown",
   "metadata": {},
   "source": [
    "#### Re.findall() & Re.finditer()"
   ]
  },
  {
   "cell_type": "code",
   "execution_count": null,
   "metadata": {},
   "outputs": [],
   "source": [
    "# Enter your code here. Read input from STDIN. Print output to STDOUT\n",
    "import re\n",
    "pattern = r'(?<=[qwrtypsdfghjklzxcvbnmQWRTYPSDFGHJKLZXCVBNM])([aeiouAEIOU]{2,})(?=[qwrtypsdfghjklzxcvbnmQWRTYPSDFGHJKLZXCVBNM])'\n",
    "\n",
    "\n",
    "string = input()\n",
    "match = re.findall(pattern, string)\n",
    "if match:\n",
    "    print(*match, sep='\\n')\n",
    "else:\n",
    "    print(-1)\n"
   ]
  },
  {
   "cell_type": "markdown",
   "metadata": {},
   "source": [
    "#### Re.start() & Re.end()"
   ]
  },
  {
   "cell_type": "code",
   "execution_count": null,
   "metadata": {},
   "outputs": [],
   "source": [
    "# Enter your code here. Read input from STDIN. Print output to STDOUT\n",
    "import re\n",
    "\n",
    "import re\n",
    "\n",
    "# Input\n",
    "main_string = input()\n",
    "substring = input()\n",
    "\n",
    "matches = re.finditer(r'(?={})'.format(re.escape(substring)), main_string)\n",
    "\n",
    "found = False\n",
    "for match in matches:\n",
    "    found = True\n",
    "    start_idx = match.start()\n",
    "    end_idx = start_idx + len(substring) - 1\n",
    "    print((start_idx, end_idx))\n",
    "\n",
    "# If no matches are found, print (-1, -1)\n",
    "if not found:\n",
    "    print((-1, -1))"
   ]
  },
  {
   "cell_type": "markdown",
   "metadata": {},
   "source": [
    "#### Regex Substitution"
   ]
  },
  {
   "cell_type": "code",
   "execution_count": null,
   "metadata": {},
   "outputs": [],
   "source": [
    "# Enter your code here. Read input from STDIN. Print output to STDOUT\n",
    "import re\n",
    "and_pattern = r'(?<=\\s)(&&)(?=\\s)'\n",
    "or_pattern = r'(?<=\\s)(\\|\\|)(?=\\s)'\n",
    "\n",
    "t = int(input())\n",
    "lines = list()\n",
    "for _ in range(t):\n",
    "    line = input()\n",
    "    line = re.sub(and_pattern, 'and', line)\n",
    "    line = re.sub(or_pattern, 'or', line)\n",
    "    lines.append(line)\n",
    "\n",
    "print(*lines, sep='\\n')\n"
   ]
  },
  {
   "cell_type": "markdown",
   "metadata": {},
   "source": [
    "#### "
   ]
  },
  {
   "cell_type": "markdown",
   "metadata": {},
   "source": [
    "#### Validating Roman Numerals"
   ]
  },
  {
   "cell_type": "code",
   "execution_count": null,
   "metadata": {},
   "outputs": [],
   "source": [
    "regex_pattern = r\"^M{0,3}(CM|CD|D?C{0,3})(XC|XL|L?X{0,3})(IX|IV|V?I{0,3})$\"\t# Do not delete 'r'.\n",
    "\n",
    "import re\n",
    "print(str(bool(re.match(regex_pattern, input()))))"
   ]
  },
  {
   "cell_type": "markdown",
   "metadata": {},
   "source": [
    "#### Validating phone numbers"
   ]
  },
  {
   "cell_type": "code",
   "execution_count": null,
   "metadata": {},
   "outputs": [],
   "source": [
    "# Enter your code here. Read input from STDIN. Print output to STDOUT\n",
    "import re\n",
    "pattern = r'(7|8|9)\\d{9}'\n",
    "\n",
    "t = int(input())\n",
    "\n",
    "for _ in range(t):\n",
    "    number = input()\n",
    "    if len(number) == 10:\n",
    "        match = re.match(pattern, number)\n",
    "        print('YES' if match else 'NO')\n",
    "    else:\n",
    "        print('NO')"
   ]
  },
  {
   "cell_type": "markdown",
   "metadata": {},
   "source": [
    "#### Validating and Parsing Email Addresses"
   ]
  },
  {
   "cell_type": "code",
   "execution_count": null,
   "metadata": {},
   "outputs": [],
   "source": [
    "# Enter your code here. Read input from STDIN. Print output to STDOUT\n",
    "import re\n",
    "import email.utils\n",
    "\n",
    "t = int(input())\n",
    "pattern = r'^[a-zA-Z][\\w.-]*@[a-zA-Z]+\\.[a-zA-Z]{1,4}$'\n",
    "for _ in range(t):\n",
    "    info = input()\n",
    "    name, email_ = email.utils.parseaddr(info)\n",
    "    if re.match(pattern, email_):\n",
    "        print(info)\n",
    "    "
   ]
  },
  {
   "cell_type": "markdown",
   "metadata": {},
   "source": [
    "#### Hex Color Code"
   ]
  },
  {
   "cell_type": "code",
   "execution_count": null,
   "metadata": {},
   "outputs": [],
   "source": [
    "# Enter your code here. Read input from STDIN. Print output to STDOUT\n",
    "import re\n",
    "pattern = r'#[0-9A-Fa-f]{3,6}\\b'\n",
    "hexs = list()\n",
    "\n",
    "t = int(input())\n",
    "\n",
    "for _ in range(t):\n",
    "    line = input()\n",
    "    matches = re.finditer(pattern, line)\n",
    "    for match in matches:\n",
    "        if match.group() !=line and '{' not in line:\n",
    "            print(match.group())\n"
   ]
  },
  {
   "cell_type": "markdown",
   "metadata": {},
   "source": [
    "#### HTML Parser - Part 1"
   ]
  },
  {
   "cell_type": "code",
   "execution_count": null,
   "metadata": {},
   "outputs": [],
   "source": [
    "# Enter your code here. Read input from STDIN. Print output to STDOUT\n",
    "from html.parser import HTMLParser\n",
    "\n",
    "class MyHTMLParser(HTMLParser):\n",
    "    def handle_starttag(self, tag, attrs):\n",
    "        print(f\"Start : {tag}\")\n",
    "        for attr, value in attrs:\n",
    "            print(f\"-> {attr} > {value if value is not None else 'None'}\")\n",
    "    \n",
    "    def handle_endtag(self, tag):\n",
    "        print(f\"End   : {tag}\")\n",
    "    \n",
    "    def handle_startendtag(self, tag, attrs):\n",
    "        print(f\"Empty : {tag}\")\n",
    "        for attr, value in attrs:\n",
    "            print(f\"-> {attr} > {value if value is not None else 'None'}\")\n",
    "\n",
    "n = int(input())\n",
    "html_content = ''.join(input().strip() for _ in range(n))\n",
    "\n",
    "parser = MyHTMLParser()\n",
    "parser.feed(html_content)\n"
   ]
  },
  {
   "cell_type": "markdown",
   "metadata": {},
   "source": [
    "#### HTML Parser - Part 2"
   ]
  },
  {
   "cell_type": "code",
   "execution_count": null,
   "metadata": {},
   "outputs": [],
   "source": [
    "from html.parser import HTMLParser\n",
    "\n",
    "class MyHTMLParser(HTMLParser):\n",
    "    def handle_comment(self, data):\n",
    "        # Determine if the comment is multi-line or single-line\n",
    "        if '\\n' in data:\n",
    "            # Multi-line comment\n",
    "            print(\">>> Multi-line Comment\")\n",
    "            print(data)\n",
    "        else:\n",
    "            # Single-line comment\n",
    "            print(\">>> Single-line Comment\")\n",
    "            print(data)\n",
    "\n",
    "    def handle_data(self, data):\n",
    "        # Only print data if it's not just a newline character\n",
    "        if data.strip() != '':\n",
    "            print(\">>> Data\")\n",
    "            print(data)  # Print as-is since we need to preserve spaces\n",
    "\n",
    "# Read input\n",
    "n = int(input())\n",
    "html_snippet = \"\\n\".join(input() for _ in range(n))\n",
    "\n",
    "# Create a parser instance and feed it the HTML snippet\n",
    "parser = MyHTMLParser()\n",
    "parser.feed(html_snippet)\n"
   ]
  },
  {
   "cell_type": "markdown",
   "metadata": {},
   "source": [
    "#### Detect HTML Tags, Attributes and Attribute Values"
   ]
  },
  {
   "cell_type": "code",
   "execution_count": null,
   "metadata": {},
   "outputs": [],
   "source": [
    "# Enter your code here. Read input from STDIN. Print output to STDOUT\n",
    "from html.parser import HTMLParser\n",
    "\n",
    "class MyHTMLParser(HTMLParser):\n",
    "    def handle_starttag(self, tag, attrs):\n",
    "        print(tag)\n",
    "        for attr in attrs:\n",
    "            attribute_name, attribute_value = attr\n",
    "            print(f\"-> {attribute_name} > {attribute_value}\")\n",
    "\n",
    "    def handle_endtag(self, tag):\n",
    "        pass \n",
    "\n",
    "    def handle_startendtag(self, tag, attrs):\n",
    "        print(tag)\n",
    "        for attr in attrs:\n",
    "            attribute_name, attribute_value = attr\n",
    "            print(f\"-> {attribute_name} > {attribute_value}\")\n",
    "\n",
    "    def handle_comment(self, data):\n",
    "        pass\n",
    "\n",
    "n = int(input())\n",
    "html_snippet = \"\\n\".join(input() for _ in range(n))\n",
    "\n",
    "parser = MyHTMLParser()\n",
    "parser.feed(html_snippet)\n"
   ]
  },
  {
   "cell_type": "markdown",
   "metadata": {},
   "source": [
    "#### Validating UID"
   ]
  },
  {
   "cell_type": "code",
   "execution_count": null,
   "metadata": {},
   "outputs": [],
   "source": [
    "def is_valid_uid(uid):\n",
    "    if len(uid) != 10:\n",
    "        return False\n",
    "    \n",
    "    has_upper = False\n",
    "    has_digit = False\n",
    "    seen_characters = set()\n",
    "    \n",
    "    for char in uid:\n",
    "        if not char.isalnum():\n",
    "            return False\n",
    "        \n",
    "        if char.isupper():\n",
    "            has_upper = True\n",
    "            \n",
    "        if char.isdigit():\n",
    "            has_digit = True\n",
    "            \n",
    "        if char in seen_characters:\n",
    "            return False\n",
    "        seen_characters.add(char)\n",
    "    \n",
    "    return has_upper and has_digit\n",
    "\n",
    "n = int(input())\n",
    "for _ in range(n):\n",
    "    uid = input().strip()\n",
    "    if is_valid_uid(uid):\n",
    "        print(\"Valid\")\n",
    "    else:\n",
    "        print(\"Invalid\")\n"
   ]
  },
  {
   "cell_type": "markdown",
   "metadata": {},
   "source": [
    "#"
   ]
  },
  {
   "cell_type": "markdown",
   "metadata": {},
   "source": [
    "#### "
   ]
  },
  {
   "cell_type": "markdown",
   "metadata": {},
   "source": [
    "#"
   ]
  },
  {
   "cell_type": "markdown",
   "metadata": {},
   "source": [
    "## Numpy"
   ]
  },
  {
   "cell_type": "markdown",
   "metadata": {},
   "source": [
    "#### Arrays\n"
   ]
  },
  {
   "cell_type": "code",
   "execution_count": null,
   "metadata": {},
   "outputs": [],
   "source": [
    "import numpy\n",
    "\n",
    "def arrays(arr):\n",
    "    # complete this function\n",
    "    # use numpy.array\n",
    "    arr = numpy.array(arr, float)\n",
    "    return arr[::-1]\n",
    "\n",
    "arr = input().strip().split(' ')\n",
    "result = arrays(arr)\n",
    "print(result)"
   ]
  },
  {
   "cell_type": "markdown",
   "metadata": {},
   "source": [
    "#### Shape and Reshape\n"
   ]
  },
  {
   "cell_type": "code",
   "execution_count": null,
   "metadata": {},
   "outputs": [],
   "source": [
    "import numpy as np\n",
    "\n",
    "arr = input().strip().split(' ')\n",
    "arr = np.array(arr, int)\n",
    "print(arr.reshape((3, 3)))\n",
    "\n",
    "\n",
    "\n"
   ]
  },
  {
   "cell_type": "markdown",
   "metadata": {},
   "source": [
    "#### Transpose and Flatten\n"
   ]
  },
  {
   "cell_type": "code",
   "execution_count": null,
   "metadata": {},
   "outputs": [],
   "source": [
    "import numpy as np\n",
    "\n",
    "arr = list()\n",
    "row, col = input().strip().split(' ')\n",
    "row, col = int(row), int(col)\n",
    "\n",
    "for _ in range(row):\n",
    "    arr.append(input().strip().split(' '))\n",
    "\n",
    "arr = np.array(arr, int)\n",
    "    \n",
    "\n",
    "print(arr.transpose())\n",
    "print(arr.flatten())\n"
   ]
  },
  {
   "cell_type": "markdown",
   "metadata": {},
   "source": [
    "#### Concatenate"
   ]
  },
  {
   "cell_type": "code",
   "execution_count": null,
   "metadata": {},
   "outputs": [],
   "source": [
    "import numpy as np \n",
    "\n",
    "N, M, P = tuple(map(int, input().strip().split(' ')))\n",
    "farr, sarr = list(), list()\n",
    "\n",
    "for _ in range(N):\n",
    "    farr.append(input().strip().split(' '))\n",
    "\n",
    "for _ in range(M):\n",
    "    sarr.append(input().strip().split(' '))\n",
    "\n",
    "farr = np.array(farr, int)\n",
    "sarr = np.array(sarr, int)\n",
    "\n",
    "print(np.concatenate((farr, sarr), axis=0))\n"
   ]
  },
  {
   "cell_type": "markdown",
   "metadata": {},
   "source": [
    "#### Zeros and Ones\n"
   ]
  },
  {
   "cell_type": "code",
   "execution_count": null,
   "metadata": {},
   "outputs": [],
   "source": [
    "import numpy as np\n",
    "\n",
    "dims = tuple(map(int, input().strip().split(' ')))\n",
    "\n",
    "print(np.zeros(dims, int))\n",
    "print(np.ones(dims, int))\n",
    "\n"
   ]
  },
  {
   "cell_type": "markdown",
   "metadata": {},
   "source": [
    "#### Eye and Identity\n"
   ]
  },
  {
   "cell_type": "code",
   "execution_count": null,
   "metadata": {},
   "outputs": [],
   "source": [
    "import numpy as np\n",
    "np.set_printoptions(legacy='1.13')\n",
    "\n",
    "x,y = tuple(map(int, input().strip().split(' ')))\n",
    "\n",
    "print(np.eye(x,y, k=0))\n"
   ]
  },
  {
   "cell_type": "markdown",
   "metadata": {},
   "source": [
    "#### Array Mathematics\n"
   ]
  },
  {
   "cell_type": "code",
   "execution_count": null,
   "metadata": {},
   "outputs": [],
   "source": [
    "import numpy as np\n",
    "\n",
    "n, m = map(int, input().split())\n",
    "array_a = np.array([input().split() for _ in range(n)], dtype=int)\n",
    "array_b = np.array([input().split() for _ in range(n)], dtype=int)\n",
    "\n",
    "print(np.add(array_a, array_b))\n",
    "print(np.subtract(array_a, array_b))\n",
    "print(np.multiply(array_a, array_b))\n",
    "print(np.floor_divide(array_a, array_b))\n",
    "print(np.mod(array_a, array_b))\n",
    "print(np.power(array_a, array_b))\n",
    "\n",
    "\n",
    "\n",
    "\n",
    "\n"
   ]
  },
  {
   "cell_type": "markdown",
   "metadata": {},
   "source": [
    "#### Floor, Ceil and Rint\n"
   ]
  },
  {
   "cell_type": "code",
   "execution_count": null,
   "metadata": {},
   "outputs": [],
   "source": [
    "import numpy as np\n",
    "\n",
    "np.set_printoptions(sign=' ')  # Ensure correct output formatting\n",
    "\n",
    "A = np.array(input().split(), dtype=float)\n",
    "\n",
    "print(np.floor(A))\n",
    "print(np.ceil(A))\n",
    "print(np.rint(A))\n",
    "\n",
    "\n",
    "\n",
    "\n"
   ]
  },
  {
   "cell_type": "markdown",
   "metadata": {},
   "source": [
    "#### Sum and Prod\n"
   ]
  },
  {
   "cell_type": "code",
   "execution_count": null,
   "metadata": {},
   "outputs": [],
   "source": [
    "import numpy as np\n",
    "\n",
    "n, m = map(int, input().split())\n",
    "array = np.array([input().split() for _ in range(n)], int)\n",
    "\n",
    "sum_result = np.sum(array, axis=0)\n",
    "product_result = np.prod(sum_result)\n",
    "\n",
    "print(product_result)\n"
   ]
  },
  {
   "cell_type": "markdown",
   "metadata": {},
   "source": [
    "#### Min and Max"
   ]
  },
  {
   "cell_type": "code",
   "execution_count": null,
   "metadata": {},
   "outputs": [],
   "source": [
    "import numpy as np\n",
    "\n",
    "n, m = list(map(int, input().split()))\n",
    "\n",
    "arr = np.array([input().split() for _ in range(n)], int)\n",
    "minimized = arr.min(axis=1)\n",
    "print(max(minimized))\n",
    "\n",
    "\n",
    "\n"
   ]
  },
  {
   "cell_type": "markdown",
   "metadata": {},
   "source": [
    "#### Mean, Var, and Std\n"
   ]
  },
  {
   "cell_type": "code",
   "execution_count": null,
   "metadata": {},
   "outputs": [],
   "source": [
    "import numpy\n",
    "\n",
    "order = input().split(\" \")\n",
    "arr = []\n",
    "for i in range(int(order[0])):\n",
    "    row = list(map(int, input().split(\" \")))\n",
    "    arr.append(row)\n",
    "Array = numpy.array(arr)\n",
    "\n",
    "print(numpy.mean(Array, axis = 1))\n",
    "print(numpy.var(Array, axis = 0))\n",
    "print(round(numpy.std(Array, axis = None), 11))\n"
   ]
  },
  {
   "cell_type": "markdown",
   "metadata": {},
   "source": [
    "#### Dot and Cross\n"
   ]
  },
  {
   "cell_type": "code",
   "execution_count": null,
   "metadata": {},
   "outputs": [],
   "source": [
    "import numpy as np\n",
    "\n",
    "n = int(input())\n",
    "arr1 = np.array([input().split() for _ in range(n)], int)\n",
    "arr2 = np.array([input().split() for _ in range(n)], int)\n",
    "\n",
    "print(np.matmul(arr1, arr2))"
   ]
  },
  {
   "cell_type": "markdown",
   "metadata": {},
   "source": [
    "#### Inner and Outer"
   ]
  },
  {
   "cell_type": "code",
   "execution_count": null,
   "metadata": {},
   "outputs": [],
   "source": [
    "import numpy as np\n",
    "\n",
    "a, b = np.array([input().split()], int)[0],  np.array([input().split()], int)[0]\n",
    "\n",
    "print(np.inner(a,b))  \n",
    "print(np.outer(a,b))\n",
    "\n",
    "\n",
    "\n"
   ]
  },
  {
   "cell_type": "markdown",
   "metadata": {},
   "source": [
    "#### Polynomials\n"
   ]
  },
  {
   "cell_type": "code",
   "execution_count": null,
   "metadata": {},
   "outputs": [],
   "source": [
    "import numpy as np\n",
    "\n",
    "P = list(map(float, input().split()))\n",
    "num = float(input())\n",
    "print(np.polyval(P,num))\n"
   ]
  },
  {
   "cell_type": "markdown",
   "metadata": {},
   "source": [
    "#### Linear Algebra"
   ]
  },
  {
   "cell_type": "code",
   "execution_count": null,
   "metadata": {},
   "outputs": [],
   "source": [
    "import numpy as np\n",
    "\n",
    "n = int(input())\n",
    "arr = np.array([input().split() for _ in range(n)], float)\n",
    "print(np.round(np.linalg.det(arr), 2))"
   ]
  },
  {
   "cell_type": "markdown",
   "metadata": {},
   "source": [
    "#"
   ]
  },
  {
   "cell_type": "markdown",
   "metadata": {},
   "source": [
    "#"
   ]
  },
  {
   "cell_type": "markdown",
   "metadata": {},
   "source": [
    "# Problem 2."
   ]
  },
  {
   "cell_type": "markdown",
   "metadata": {},
   "source": [
    "## Birthday Cake Candles\n"
   ]
  },
  {
   "cell_type": "code",
   "execution_count": null,
   "metadata": {},
   "outputs": [],
   "source": [
    "#!/bin/python3\n",
    "\n",
    "import math\n",
    "import os\n",
    "import random\n",
    "import re\n",
    "import sys\n",
    "\n",
    "#\n",
    "# Complete the 'birthdayCakeCandles' function below.\n",
    "#\n",
    "# The function is expected to return an INTEGER.\n",
    "# The function accepts INTEGER_ARRAY candles as parameter.\n",
    "#\n",
    "\n",
    "def birthdayCakeCandles(candles):\n",
    "    # Write your code here\n",
    "    max_ = max(candles)\n",
    "    selected = [i for i in candles if i==max_]\n",
    "    return len(selected)\n",
    "\n",
    "if __name__ == '__main__':\n",
    "    fptr = open(os.environ['OUTPUT_PATH'], 'w')\n",
    "\n",
    "    candles_count = int(input().strip())\n",
    "\n",
    "    candles = list(map(int, input().rstrip().split()))\n",
    "\n",
    "    result = birthdayCakeCandles(candles)\n",
    "\n",
    "    fptr.write(str(result) + '\\n')\n",
    "\n",
    "    fptr.close()\n"
   ]
  },
  {
   "cell_type": "markdown",
   "metadata": {},
   "source": [
    "## Number Line Jumps\n"
   ]
  },
  {
   "cell_type": "code",
   "execution_count": null,
   "metadata": {},
   "outputs": [],
   "source": [
    "#!/bin/python3\n",
    "\n",
    "import math\n",
    "import os\n",
    "import random\n",
    "import re\n",
    "import sys\n",
    "\n",
    "#\n",
    "# Complete the 'kangaroo' function below.\n",
    "#\n",
    "# The function is expected to return a STRING.\n",
    "# The function accepts following parameters:\n",
    "#  1. INTEGER x1\n",
    "#  2. INTEGER v1\n",
    "#  3. INTEGER x2\n",
    "#  4. INTEGER v2\n",
    "#\n",
    "\n",
    "        \n",
    "def kangaroo(x1, v1, x2, v2):\n",
    "    # Write your code here\n",
    "    if v1 == v2:\n",
    "            if x1 == x2:\n",
    "                return 'YES'\n",
    "            else:\n",
    "                return 'NO'\n",
    "        \n",
    "    # Calculate whether they will meet.\n",
    "    if (x2 - x1) * (v1 - v2) > 0 and (x2 - x1) % (v1 - v2) == 0:\n",
    "        return 'YES'\n",
    "    else:\n",
    "        return 'NO'\n",
    "        \n",
    "\n",
    "if __name__ == '__main__':\n",
    "    fptr = open(os.environ['OUTPUT_PATH'], 'w')\n",
    "\n",
    "    first_multiple_input = input().rstrip().split()\n",
    "\n",
    "    x1 = int(first_multiple_input[0])\n",
    "\n",
    "    v1 = int(first_multiple_input[1])\n",
    "\n",
    "    x2 = int(first_multiple_input[2])\n",
    "\n",
    "    v2 = int(first_multiple_input[3])\n",
    "\n",
    "    result = kangaroo(x1, v1, x2, v2)\n",
    "\n",
    "    fptr.write(result + '\\n')\n",
    "\n",
    "    fptr.close()\n"
   ]
  },
  {
   "cell_type": "markdown",
   "metadata": {},
   "source": [
    "## Viral Advertising\n"
   ]
  },
  {
   "cell_type": "code",
   "execution_count": null,
   "metadata": {},
   "outputs": [],
   "source": [
    "#!/bin/python3\n",
    "\n",
    "import math\n",
    "import os\n",
    "import random\n",
    "import re\n",
    "import sys\n",
    "\n",
    "#\n",
    "# Complete the 'viralAdvertising' function below.\n",
    "#\n",
    "# The function is expected to return an INTEGER.\n",
    "# The function accepts INTEGER n as parameter.\n",
    "#\n",
    "\n",
    "def viralAdvertising(n):\n",
    "    # Write your code here\n",
    "    a = 5\n",
    "    one_day_likes = a//2\n",
    "    total_likes = one_day_likes\n",
    "    shared = one_day_likes*3\n",
    "    \n",
    "    for _ in range(n-1):\n",
    "        one_day_likes = shared//2\n",
    "        total_likes += one_day_likes\n",
    "        shared = one_day_likes*3\n",
    "    \n",
    "    return total_likes\n",
    "        \n",
    "\n",
    "if __name__ == '__main__':\n",
    "    fptr = open(os.environ['OUTPUT_PATH'], 'w')\n",
    "\n",
    "    n = int(input().strip())\n",
    "\n",
    "    result = viralAdvertising(n)\n",
    "\n",
    "    fptr.write(str(result) + '\\n')\n",
    "\n",
    "    fptr.close()\n"
   ]
  },
  {
   "cell_type": "markdown",
   "metadata": {},
   "source": [
    "## Recursive Digit Sum\n"
   ]
  },
  {
   "cell_type": "code",
   "execution_count": null,
   "metadata": {},
   "outputs": [],
   "source": [
    "#!/bin/python3\n",
    "\n",
    "import math\n",
    "import os\n",
    "import random\n",
    "import re\n",
    "import sys\n",
    "\n",
    "#\n",
    "# Complete the 'superDigit' function below.\n",
    "#\n",
    "# The function is expected to return an INTEGER.\n",
    "# The function accepts following parameters:\n",
    "#  1. STRING n\n",
    "#  2. INTEGER k\n",
    "#\n",
    "\n",
    "def superDigit(n, k):\n",
    "    # Write your code here\n",
    "    if k > 1:\n",
    "        n = k*sum([int(item) for item in n])\n",
    "    else:\n",
    "        n = sum([int(item) for item in n])\n",
    "    \n",
    "    if n//10 != 0:\n",
    "        n = superDigit(str(n), 1)\n",
    "    \n",
    "    return n\n",
    "    \n",
    "    \n",
    "\n",
    "if __name__ == '__main__':\n",
    "    fptr = open(os.environ['OUTPUT_PATH'], 'w')\n",
    "\n",
    "    first_multiple_input = input().rstrip().split()\n",
    "\n",
    "    n = first_multiple_input[0]\n",
    "\n",
    "    k = int(first_multiple_input[1])\n",
    "\n",
    "    result = superDigit(n, k)\n",
    "\n",
    "    fptr.write(str(result) + '\\n')\n",
    "\n",
    "    fptr.close()\n"
   ]
  },
  {
   "cell_type": "markdown",
   "metadata": {},
   "source": [
    "## Insertion Sort - Part 1\n"
   ]
  },
  {
   "cell_type": "code",
   "execution_count": null,
   "metadata": {},
   "outputs": [],
   "source": [
    "#!/bin/python3\n",
    "\n",
    "import math\n",
    "import os\n",
    "import random\n",
    "import re\n",
    "import sys\n",
    "\n",
    "#\n",
    "# Complete the 'insertionSort1' function below.\n",
    "#\n",
    "# The function accepts following parameters:\n",
    "#  1. INTEGER n\n",
    "#  2. INTEGER_ARRAY arr\n",
    "#\n",
    "\n",
    "def insertionSort1(n, arr):\n",
    "    # Write your code here\n",
    "    value = arr[n-1]\n",
    "    for i in range(n-1, 0, -1):\n",
    "        if arr[i-1] > value:\n",
    "            arr[i] = arr[i-1]\n",
    "            print(\" \".join(map(str, arr)))\n",
    "        else:\n",
    "            arr[i] = value\n",
    "            print(\" \".join(map(str, arr)))\n",
    "            break\n",
    "    else:\n",
    "        arr[0] = value\n",
    "        print(\" \".join(map(str, arr)))\n",
    "        \n",
    "\n",
    "if __name__ == '__main__':\n",
    "    n = int(input().strip())\n",
    "\n",
    "    arr = list(map(int, input().rstrip().split()))\n",
    "\n",
    "    insertionSort1(n, arr)\n"
   ]
  },
  {
   "cell_type": "markdown",
   "metadata": {},
   "source": [
    "## Insertion Sort - Part 2\n"
   ]
  },
  {
   "cell_type": "code",
   "execution_count": null,
   "metadata": {},
   "outputs": [],
   "source": [
    "#!/bin/python3\n",
    "\n",
    "import math\n",
    "import os\n",
    "import random\n",
    "import re\n",
    "import sys\n",
    "\n",
    "#\n",
    "# Complete the 'insertionSort2' function below.\n",
    "#\n",
    "# The function accepts following parameters:\n",
    "#  1. INTEGER n\n",
    "#  2. INTEGER_ARRAY arr\n",
    "#\n",
    "\n",
    "def insertionSort2(n, arr):\n",
    "    # Write your code here\n",
    "    for i in range(1, n):\n",
    "        value = arr[i]\n",
    "        for j in range(i, 0, -1):\n",
    "            if arr[j-1] > value:\n",
    "                arr[j] = arr[j-1]\n",
    "            else:\n",
    "                arr[j] = value\n",
    "                break\n",
    "        else:\n",
    "            arr[0] = value\n",
    "            \n",
    "        print(\" \".join(map(str, arr)))\n",
    "        \n",
    "\n",
    "if __name__ == '__main__':\n",
    "    n = int(input().strip())\n",
    "\n",
    "    arr = list(map(int, input().rstrip().split()))\n",
    "\n",
    "    insertionSort2(n, arr)\n"
   ]
  }
 ],
 "metadata": {
  "language_info": {
   "name": "python"
  }
 },
 "nbformat": 4,
 "nbformat_minor": 2
}
